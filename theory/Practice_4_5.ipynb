{
  "cells": [
    {
      "cell_type": "markdown",
      "metadata": {
        "id": "FMqboNwO4rVs"
      },
      "source": [
        "# **Курс \"Програмування на мові Python\"**"
      ]
    },
    {
      "cell_type": "markdown",
      "metadata": {
        "id": "A2T6MigL5Z06"
      },
      "source": [
        "## **Практичні зайняття №4-5**\n",
        "### Тема: \"Перші програми на Python. Введення та виведення даних. Інструкція if. Цикли. Робота зі списками\""
      ]
    },
    {
      "cell_type": "markdown",
      "metadata": {
        "id": "czcyeM09TwN7"
      },
      "source": [
        "### **1. Функції введення та виведення даних**"
      ]
    },
    {
      "cell_type": "markdown",
      "metadata": {
        "id": "_3f8_9g_1YXJ"
      },
      "source": [
        "Вивчення будь-якої мови програмування прийнято починати з виведення тексту \"Hello World\". Це дуже корисно, оскільки виконання цієї простої операції показує, що ваш інтерпретатор та середовище розробки (*Integrated Development Environment*) налаштовані правильно і можуть обробляти (компілювати - *від. англ. to compile - збирати, складати*) та виконувати вашу програму.\n",
        "\n",
        "У мові Python виведення даних відбувається за допомогою функції print(). Це заздалегідь визначена функція, тобто така, що вбудована у середовище Python і зрозуміла для інтерпретатора Python.\n",
        "\n",
        "На виході функції отримується те, що називається *вихідним потоком*, який складається з літер, цифр та деяких символів. Цей *вихідний потік* даних може бути спрямований у вікно виведення, як-то Термінал у системі Mac або Командний рядок у системі Windows. У середовищі розробки дані виводяться у вікні виводу даних."
      ]
    },
    {
      "cell_type": "code",
      "execution_count": null,
      "metadata": {
        "id": "o6tZWJmsxIlY"
      },
      "outputs": [],
      "source": [
        "print('Hello, world')"
      ]
    },
    {
      "cell_type": "markdown",
      "metadata": {
        "id": "lYOtleq-7DDt"
      },
      "source": [
        "Використання функції введення даних **input()**. \n",
        "\n",
        "Зробимо так, щоб програма запитала наше ім'я і привіталась з нами особисто."
      ]
    },
    {
      "cell_type": "code",
      "execution_count": null,
      "metadata": {
        "id": "9aEHPF6u7Bz-"
      },
      "outputs": [],
      "source": [
        "user_name = input('Enter your name: ')\n",
        "print('Hello,', user_name)"
      ]
    },
    {
      "cell_type": "markdown",
      "metadata": {},
      "source": [
        "У рядку `user_name = input('Enter your name: ')` виконуються кілька операцій. Спочатку виконується функція input(). Це також *вбудована* функція, що є частиною мови Python. В нашому випадку вона виводить рядок 'Enter your name: ' як підказку і очікує, поки користувач щось введе і натисне клавішу вводу. Далі введені дані зберігаються у *змінній* user_name.\n",
        "\n",
        "*Змінна* - це іменована область пам'яті комп'ютера, що може використовуватись для збереження даних (рядків, чисел, даних логічного типу - True/False тощо). В нашому випадку змінна user_name відіграє роль мітки області пам'яті, що зберігає рядок, введений користувачем.\n",
        "\n",
        "Функція print() цього разу отримує на вхід два аргументи, розділені комою: 'Hello, ' та user_name (насправді їх може бути набагато більше)."
      ]
    },
    {
      "cell_type": "markdown",
      "metadata": {
        "id": "EIrETlpao0pH"
      },
      "source": [
        "Модифікуємо нашу попередню програму, щоб вона також запитувала в користувача ім'я його найкращого друга та виводила вітальне повідомлення цьому другові.\n",
        "\n",
        "Зверніть увагу на те, що під час роботи коду змінна name перезаписується. Коли виводиться рядок 'Hello, best friend', поряд з ним виводиться останнє введене ім'я, хоча змінна та ж сама."
      ]
    },
    {
      "cell_type": "code",
      "execution_count": null,
      "metadata": {
        "id": "PVfZ-zeVoz87"
      },
      "outputs": [],
      "source": [
        "name = input('Enter your name: ')\n",
        "print('Hello,', name)\n",
        "name = input('What is the name of your best friend: ')\n",
        "print('Hello, best friend', name)"
      ]
    },
    {
      "cell_type": "markdown",
      "metadata": {
        "id": "e_UKle1-rrAg"
      },
      "source": [
        "Звичайно, змінні у Python можуть зберігати не тільки рядки, але й числа чи дані логічного типу. Це називається динамічною типізацією. Це означає, що тип даних, який зберігається у змінній, може динамічно змінюватись в процесі роботи програми."
      ]
    },
    {
      "cell_type": "code",
      "execution_count": null,
      "metadata": {
        "id": "hm-Kmm1OrrlM"
      },
      "outputs": [],
      "source": [
        "my_variable = 'John'\n",
        "print(my_variable)\n",
        "my_variable = 42\n",
        "print(my_variable)\n",
        "my_variable = True\n",
        "print(my_variable)"
      ]
    },
    {
      "cell_type": "markdown",
      "metadata": {},
      "source": [
        "Слід зауважити, що у деяких інших мовах програмування, як, наприклад, у Java чи C#, змінні мають *статичну типізацію*. У цих мовах тип даних змінної визначається, коли програма запускається (або компілюється) вперше. Після цього змінити тип даних змінної неможливо."
      ]
    },
    {
      "cell_type": "markdown",
      "metadata": {},
      "source": [
        "Деякі правила іменування змінних.\n",
        "\n",
        "Назви змінних:\n",
        "\n",
        "1. не мають містити великих літер;\n",
        "\n",
        "2. мають бути інформативними (виняток становлять змінні i, j, k в циклічних конструкціях);\n",
        "\n",
        "3. можуть містити нижнє підкреслювання, якщо назви складаються з кількох слів.\n",
        "\n",
        "Наприклад: user_name, pass_rate, house_number, total_number_of_users."
      ]
    },
    {
      "cell_type": "markdown",
      "metadata": {
        "id": "8kulJOUwaxuF"
      },
      "source": [
        "### **2. Інструкція, вираз, коментар**"
      ]
    },
    {
      "cell_type": "markdown",
      "metadata": {
        "id": "PchuddL2uIO1"
      },
      "source": [
        "**Оператор присвоювання (*assignment operator*)** - механізм, що дозволяє динамічно змінювати зв'язки об'єктів даних (зазвичай, змінних) з їхніми значеннями.\n",
        "\n",
        "У виразі `user_name = input('Enter your name: ')` оператор присвоювання ('=') *присвоює* значення, яке повертає функція input(), змінній user_name."
      ]
    },
    {
      "cell_type": "markdown",
      "metadata": {
        "id": "Uf6FDN_zeC11"
      },
      "source": [
        "**Інструкція (*statement*)** - це команда, яку може виконати інтерпретатор мови програмування.\n",
        "\n",
        "*Інструкція* може складатись з одного рядка, або бути розділеною на кілька рядків, якщо це покращуватиме читабельність чи формат виведення коду. Наприклад, в наступному коді подається одна *інструкція*, однак розкладена на 6 рядків коду для покращення читабельності."
      ]
    },
    {
      "cell_type": "code",
      "execution_count": null,
      "metadata": {
        "colab": {
          "base_uri": "https://localhost:8080/",
          "height": 68
        },
        "id": "DoQDyK3dTahS",
        "outputId": "876ba20c-75f8-4b8f-e189-24ed6b740aec"
      },
      "outputs": [],
      "source": [
        "city = input('City name:')\n",
        "number_of_people_in_city = input('Number of people in city:')\n",
        "year = input('Year:')\n",
        "\n",
        "print('The total population for',\n",
        "city, \n",
        "'was', \n",
        "number_of_people_in_city, \n",
        "'in', \n",
        "year)"
      ]
    },
    {
      "cell_type": "markdown",
      "metadata": {
        "id": "MYlmHmUMUVdJ"
      },
      "source": [
        "**Вираз (*expression*)** - це обчислення, яке генерує певне значення. \n",
        "\n",
        "Приклад *виразу*, в якому додаються числа 4 і 5 і генерується значення 9:"
      ]
    },
    {
      "cell_type": "code",
      "execution_count": null,
      "metadata": {
        "id": "e2Mr7sdUakR9"
      },
      "outputs": [],
      "source": [
        "4 + 5"
      ]
    },
    {
      "cell_type": "markdown",
      "metadata": {
        "id": "P8DjeRGjZC0y"
      },
      "source": [
        "**Коментар (*comment*)** - це частина програми, що ігнорується інтерпретатором мови програмування.\n",
        "\n",
        "У мові Python коментарі позначаються символом '#'."
      ]
    },
    {
      "cell_type": "code",
      "execution_count": null,
      "metadata": {
        "id": "o544Qrr8Y_VN"
      },
      "outputs": [],
      "source": [
        "# This is a comment\n",
        "name = input('Enter your name: ')\n",
        "# This is another comment\n",
        "print(name) # this is a comment to the end of the line"
      ]
    },
    {
      "cell_type": "markdown",
      "metadata": {
        "id": "2vM-TJgJCLcz"
      },
      "source": [
        "### **3. Інструкція *if***"
      ]
    },
    {
      "cell_type": "markdown",
      "metadata": {
        "id": "6_qV4L7oHYby"
      },
      "source": [
        "Інструкція (оператор) *if* використовується для контролю потоку виконання програми на основі певної умови. \n",
        "\n",
        "Однак перед тим як досліджувати інструкцію *if*, потрібно розібратись в тому, що таке *оператори порівняння*."
      ]
    },
    {
      "cell_type": "markdown",
      "metadata": {
        "id": "hnwsrMnmKPk1"
      },
      "source": [
        "**Оператори порівняння (comparison operators)** - це оператори, що порівнюють два значення та повертають значення двійкового (Boolean) типу. *Оператор порівняння* виконує певну форму перевірки та повертає True або False."
      ]
    },
    {
      "cell_type": "markdown",
      "metadata": {
        "id": "upVOL8azL0Lq"
      },
      "source": [
        "*Оператори порівняння*:\n",
        "\n",
        "Operator | Description | Example\n",
        "--- | --- | ---\n",
        "== | Tests if two values are equal | 3 == 3\n",
        "!= | Tests that two values are not equal to each other | 2 != 3\n",
        "< | Tests to see if the left-hand value is less than the right-hand value | 2 < 3\n",
        "\\> | Tests if the left-hand value is greater than the right-hand value | 3 > 2\n",
        "<= | Tests if the left-hand value is less than or equal to the right-hand value | 3 <= 4\n",
        "\\>= | Tests if the left-hand value is greater than or equal to the right-hand value | 5 >= 4"
      ]
    },
    {
      "cell_type": "markdown",
      "metadata": {
        "id": "e8RpL9C9Mqu0"
      },
      "source": [
        "**Логічні оператори (logical operators)** - це оператори, що використовуються для об'єднання двох чи більше виразів двійкового типу.\n",
        "\n",
        "У Python є всього 3 *логічні оператори*:\n",
        "\n",
        "Operator | Description | Example\n",
        "--- | --- | ---\n",
        "and | Returns True if both left and right are true | (3 < 4) and (5 > 4)\n",
        "or | Returns True if either the left or the right is true | (3 < 4) or (3 > 5)\n",
        "not | Returns True if the value being tested is False | not 3 < 2"
      ]
    },
    {
      "cell_type": "markdown",
      "metadata": {
        "id": "Y-mn2pxVaHup"
      },
      "source": [
        "У своїй перинній формі інструкція if має вигляд:\n",
        "\n",
        "```\n",
        "if <умова-двійкового-типу>:\n",
        "    інструкція\n",
        "```\n",
        "\n",
        "Якщо *умова* виконується, тобто якщо вона набуває двійкового значення True, інтерпретатор переходить до виконання *інструкції*."
      ]
    },
    {
      "cell_type": "markdown",
      "metadata": {
        "id": "_0XQ3XwKcVc3"
      },
      "source": [
        "Приклад:"
      ]
    },
    {
      "cell_type": "code",
      "execution_count": null,
      "metadata": {
        "colab": {
          "base_uri": "https://localhost:8080/",
          "height": 51
        },
        "id": "6aAVUTazcYW5",
        "outputId": "8bcd697c-c0ab-473c-a560-d88559c9160a"
      },
      "outputs": [],
      "source": [
        "num = int(input('Enter a number: '))\n",
        "if num < 0:\n",
        "    print(num, 'is negative')"
      ]
    },
    {
      "cell_type": "markdown",
      "metadata": {
        "id": "W0ycJQBmcqT-"
      },
      "source": [
        "Ще один приклад:"
      ]
    },
    {
      "cell_type": "code",
      "execution_count": null,
      "metadata": {
        "colab": {
          "base_uri": "https://localhost:8080/",
          "height": 51
        },
        "id": "kp_AIihuOLBw",
        "outputId": "3d953125-3bd5-4e6d-dbc7-e4e2f89709d4"
      },
      "outputs": [],
      "source": [
        "num = int(input('Enter a number: '))\n",
        "if num > 0:\n",
        "    print(num, 'is positive')\n",
        "    print(num, 'squared is', num * num)\n",
        "print('Bye')"
      ]
    },
    {
      "cell_type": "markdown",
      "metadata": {
        "id": "bSNrBqY4O8se"
      },
      "source": [
        "Також можна визначити другу (необов'язкову) частину **else** оператора **if**."
      ]
    },
    {
      "cell_type": "code",
      "execution_count": null,
      "metadata": {
        "colab": {
          "base_uri": "https://localhost:8080/",
          "height": 51
        },
        "id": "rTuejO32O77_",
        "outputId": "c3bece1c-a66f-4c73-a239-52725f20cfd5"
      },
      "outputs": [],
      "source": [
        "num = int(input('Enter yet another number: '))\n",
        "if num < 0:\n",
        "    print('Its negative')\n",
        "else:\n",
        "    print('Its not negative')"
      ]
    },
    {
      "cell_type": "markdown",
      "metadata": {
        "id": "1WgFjhElP8ht"
      },
      "source": [
        "Бувають випадки, коли потрібно перевірити кілька умов, і кожна наступна умова перевіряється лише у тому випадку, якщо усі попередні не виконались. Такий сценарій підтримується у Python і реалізується за допомогою елемента **elif** (\"else-if\") оператора if.\n",
        "\n",
        "Наприклад:"
      ]
    },
    {
      "cell_type": "code",
      "execution_count": null,
      "metadata": {
        "colab": {
          "base_uri": "https://localhost:8080/",
          "height": 51
        },
        "id": "rjFI1yTaPu-2",
        "outputId": "da3d9b30-e07d-4990-885b-b7a694196e0e"
      },
      "outputs": [],
      "source": [
        "savings = float(input(\"Enter how much you have in savings: \"))\n",
        "if savings == 0:\n",
        "    print(\"Sorry no savings\")\n",
        "elif savings < 500:\n",
        "    print('Well done')\n",
        "elif savings < 1000:\n",
        "    print('Thats a tidy sum')\n",
        "elif savings < 10000:\n",
        "    print('Welcome Sir!')\n",
        "else:\n",
        "    print('Thank you')"
      ]
    },
    {
      "cell_type": "markdown",
      "metadata": {
        "id": "LHQuqN2wS0f8"
      },
      "source": [
        "**Вкладений** оператор if - це оператор if, який знаходиться всередині іншого оператора if. Він може використовуватися для уточнення умов першого оператора.\n",
        "\n",
        "Наприклад:"
      ]
    },
    {
      "cell_type": "code",
      "execution_count": null,
      "metadata": {
        "colab": {
          "base_uri": "https://localhost:8080/",
          "height": 34
        },
        "id": "9xoljaf9S0rI",
        "outputId": "fd1c505f-5460-4978-e43c-756e75f7d968"
      },
      "outputs": [],
      "source": [
        "snowing = True\n",
        "temp = 1\n",
        "if temp < 0:\n",
        "    print('It is freezing')\n",
        "    if snowing:\n",
        "        print('Put on boots')\n",
        "    print('Time for Hot Chocolate')\n",
        "print('Bye')"
      ]
    },
    {
      "cell_type": "markdown",
      "metadata": {
        "id": "N_zJ_tY0V2M5"
      },
      "source": [
        "**If** може бути як **інструкцією**, так і **виразом**. Досі ми розглядали if лише як інструкцію.\n",
        "\n",
        "У програмуванні різниця між виразом (expression) та інструкцією (statement) лише в тому, що вираз повертає значення, а інструкція не повертає.\n",
        "\n",
        "У наступних двох прикладах подані два варіанти коду, що виконують однакові функції."
      ]
    },
    {
      "cell_type": "markdown",
      "metadata": {
        "id": "RHUEKtCecpFy"
      },
      "source": [
        "Приклад 1. В цьому випадку if - інструкція."
      ]
    },
    {
      "cell_type": "code",
      "execution_count": null,
      "metadata": {
        "id": "1Dl7dQuSY0pD"
      },
      "outputs": [],
      "source": [
        "age = 15\n",
        "status = None\n",
        "if (age > 12) and (age < 20):\n",
        "    status = 'teenager'\n",
        "else:\n",
        "    status = 'not teenager'\n",
        "print(status)"
      ]
    },
    {
      "cell_type": "markdown",
      "metadata": {
        "id": "4_3VrFFfc8K-"
      },
      "source": [
        "Приклад 2. В цьому випадку if - вираз."
      ]
    },
    {
      "cell_type": "code",
      "execution_count": null,
      "metadata": {
        "colab": {
          "base_uri": "https://localhost:8080/",
          "height": 34
        },
        "id": "AGEN9RCxc5SM",
        "outputId": "4efd13a6-4d5b-4844-9ad5-4a311a68e982"
      },
      "outputs": [],
      "source": [
        "age = 12\n",
        "status = ('teenager' if (age > 12) and (age < 20) else 'not teenager')\n",
        "print(status)"
      ]
    },
    {
      "cell_type": "markdown",
      "metadata": {},
      "source": [
        "### **4. Інструкція match**"
      ]
    },
    {
      "cell_type": "markdown",
      "metadata": {},
      "source": [
        "Інструкція *match* реалізована в мові програмування Python, починаючи з версії 3.10. У програмуванні цю інструкцію називають \"зіставленням структурних шаблонів\" (structural pattern matching). У більш ранніх версіях Python ця інструкція замінялась послідовнівстю операторів if-elif-else.\n",
        "\n",
        "Інструкція *match* дозволяє обрати один з варіантів продовження роботи програми, порівнюючи значення, яке подається їй на вхід, із шаблонами, які містяться в блоках *case*. Блок *case _* виконується за замовчуванням, якщо інтерпретатор до нього доходить.\n",
        "\n",
        "Інструкція *match* має вигляд:\n",
        "```\n",
        "match <значення>:\n",
        "    case <шаблон-1>:\n",
        "        інструкції\n",
        "    case <шаблон-2>:\n",
        "        інструкції\n",
        "    case <шаблон-3>:\n",
        "        інструкції\n",
        "    case _:\n",
        "        інструкції\n",
        "```"
      ]
    },
    {
      "cell_type": "markdown",
      "metadata": {},
      "source": [
        "Приклад:"
      ]
    },
    {
      "cell_type": "code",
      "execution_count": null,
      "metadata": {},
      "outputs": [],
      "source": [
        "siblings = int(input(\"Enter how many siblings do you have: \"))\n",
        "\n",
        "match siblings:\n",
        "    case 0:\n",
        "        print(\"Sorry I don't have siblings.\")\n",
        "    case 1:\n",
        "        print(\"I have one!\")\n",
        "    case 2:\n",
        "        print(\"I have two of them!\")\n",
        "    case 3:\n",
        "        print(\"Believe it or not, I have three!\")\n",
        "    case _:\n",
        "        print(\"I have a lot of them!\")"
      ]
    },
    {
      "cell_type": "markdown",
      "metadata": {},
      "source": [
        "### **5. Основи перевірки даних та обробки виключень**"
      ]
    },
    {
      "cell_type": "markdown",
      "metadata": {},
      "source": [
        "Перевірка того, чи є введені дані числовими. Метод isdigit() повертає значення True, якщо всі символи введеного рядка - цифри."
      ]
    },
    {
      "cell_type": "code",
      "execution_count": null,
      "metadata": {
        "id": "ipuKlPhLeA8I"
      },
      "outputs": [],
      "source": [
        "number = input('Please enter a number ')\n",
        "if number.isdigit():\n",
        "    print(\"All symbols are numbers.\")\n",
        "else:\n",
        "    print(\"Except numbers, there are other symbols!\")"
      ]
    },
    {
      "cell_type": "markdown",
      "metadata": {},
      "source": [
        "Перевірка того, чи є введені дані текстом. Метод isalpha() повертає значення True, якщо всі символи введеного рядка - літери."
      ]
    },
    {
      "cell_type": "code",
      "execution_count": null,
      "metadata": {},
      "outputs": [],
      "source": [
        "number = input('Please enter a number ')\n",
        "if number.isalpha():\n",
        "    print(\"All symbols are letters.\")\n",
        "else:\n",
        "    print(\"Except letters, there are other symbols!\")"
      ]
    },
    {
      "cell_type": "markdown",
      "metadata": {},
      "source": [
        "Для обробки виключень у мові програмування Python використовується конструкція try-except. Розглянемо перші 2 частини цієї конструкції.\n",
        "\n",
        "1. **Блок try** містить блок коду, який перевіряється. Якщо в процесі виконання коду генерується виключення, вказане у частині except, запускається блок except.\n",
        "\n",
        "2. **Блок except** визначає, що потрібно робити, якщо було згенероване певне виключення."
      ]
    },
    {
      "cell_type": "code",
      "execution_count": null,
      "metadata": {},
      "outputs": [],
      "source": [
        "6 / 0"
      ]
    },
    {
      "cell_type": "code",
      "execution_count": null,
      "metadata": {},
      "outputs": [],
      "source": [
        "number = int(input('Please enter a number '))"
      ]
    },
    {
      "cell_type": "code",
      "execution_count": null,
      "metadata": {},
      "outputs": [],
      "source": [
        "try:\n",
        "    number1 = int(input('Please enter a number '))\n",
        "    number2 = int(input('Please enter another number '))\n",
        "    print(number1 / number2)\n",
        "except ZeroDivisionError:\n",
        "    print('Division by zero!!!')\n",
        "except ValueError:\n",
        "    print(\"You've entered the wrong number!!!\")\n",
        "except:\n",
        "    print(\"oops\")\n",
        "    "
      ]
    },
    {
      "cell_type": "markdown",
      "metadata": {},
      "source": [
        "### **6. Цикли**"
      ]
    },
    {
      "cell_type": "markdown",
      "metadata": {},
      "source": [
        "**Цикли** використовуються для багаторазового виконання набору інструкцій.\n",
        "\n",
        "У мові програмування Python цикли бувають двох типів: цикли while та цикли for."
      ]
    },
    {
      "cell_type": "markdown",
      "metadata": {},
      "source": [
        "**Цикл while** використовується для повторення виконання однієї та більше інструкцій, поки умова повертає значення True.\n",
        "\n",
        "У мові програмування Python цикл while має форму:\n",
        "\n",
        "```\n",
        "while <умова циклу, що повертає True>:\n",
        "    інструкції\n",
        "```\n",
        "\n",
        "Зверніть увагу на те, що перевірка виконання умови циклу відбувається *перед* кожною ітерацією, включаючи першу ітерацію. Тобто якщо умова не виконується на першій ітерації циклу, блок інструкцій не буде виконаний жодного разу.\n",
        "\n",
        "Приклад використання циклу while:"
      ]
    },
    {
      "cell_type": "code",
      "execution_count": null,
      "metadata": {},
      "outputs": [],
      "source": [
        "count = 0\n",
        "print('Starting')\n",
        "while count < 10:\n",
        "    print(count, ' ', end='') # part of the while loop\n",
        "    count += 1 # also part of the while loop\n",
        "print() # not part of the while loop\n",
        "print('Done')"
      ]
    },
    {
      "cell_type": "markdown",
      "metadata": {},
      "source": [
        "Зверніть увагу на те, що змінна count ініціалізується перед циклом. Це особливість циклу while, яка зумовлена необхідністю використовувати цю змінну вже на першій ітерації циклу."
      ]
    },
    {
      "cell_type": "markdown",
      "metadata": {},
      "source": [
        "**Цикл for** використовується в тих випадках, коли ми точно знаємо, скільки разів хочемо виконати певні інструкції. Хоча цикл while також може бути використаний для таких ситуацій, набагато легше це робиться за допомогою циклу for.\n",
        "\n",
        "У мові програмування Python цикл for має вигляд:\n",
        "\n",
        "```\n",
        "# for <назва змінної> in range(...):\n",
        "    інструкції\n",
        "```\n",
        "\n",
        "Функція range (з англ. - діапазон) генерує значення в заданому діапазоні, які використовуються в циклі for.\n",
        "\n",
        "У Python цикли дуже гнучкі і можуть перебирати значення не тільки в діапазоні цілих чисел, але і в наборі значень, що містяться в певних структурах даних, таких як список цілих чисел або список значень рядкового типу.\n",
        "\n",
        "Приклад використання циклу for:"
      ]
    },
    {
      "cell_type": "code",
      "execution_count": null,
      "metadata": {},
      "outputs": [],
      "source": [
        "print('Print out values in a range')\n",
        "for i in range(0, 10):\n",
        "    print(i, ' ', end='')\n",
        "print()\n",
        "print('Done')"
      ]
    },
    {
      "cell_type": "markdown",
      "metadata": {},
      "source": [
        "Наведений код робить те ж саме, що і код з прикладу для циклу while. Але:\n",
        "\n",
        "1. код більш стислий;\n",
        "\n",
        "2. зрозуміло, що ми працюємо зі значеннями на інтервалі від 0 до 9 (зверніть увагу, що останнє значення діапазону не використовується);\n",
        "\n",
        "3. нам не потрібно заздалегідь визначати змінну циклу."
      ]
    },
    {
      "cell_type": "markdown",
      "metadata": {},
      "source": [
        "За замовчуванням значення змінної i збільшується на 1. Але функція range дає можливіть змінювати крок для ітератора. Розмір кроку можна ввести третім аргументом цієї функції. Наприклад:"
      ]
    },
    {
      "cell_type": "code",
      "execution_count": null,
      "metadata": {},
      "outputs": [],
      "source": [
        "print('Print out values in a range with an increment of 2')\n",
        "for i in range(0, 10, 2):\n",
        "    print(i, ' ', end='')\n",
        "print()\n",
        "print('Done')"
      ]
    },
    {
      "cell_type": "markdown",
      "metadata": {},
      "source": [
        "**Інструкція break** використовується для переривання циклу (використовується і в циклі while, і в циклі for).\n",
        "\n",
        "Зазвичай інструкція break розміщується під інструкцією if. Це дозволяє переривати цикл лише у разі виконання певної умови.\n",
        "\n",
        "Приклад використання інструкції break:"
      ]
    },
    {
      "cell_type": "code",
      "execution_count": null,
      "metadata": {},
      "outputs": [],
      "source": [
        "num = int(input('Enter a number to check for: '))\n",
        "for i in range(0, 6):\n",
        "    if i == num:\n",
        "        break\n",
        "    print(i, ' ', end='')\n",
        "print()\n",
        "print('Done')"
      ]
    },
    {
      "cell_type": "markdown",
      "metadata": {},
      "source": [
        "**Інструкція continue** використовується для переривання поточної ітерації циклу (також використовується і в циклі while, і в циклі for).\n",
        "\n",
        "Інструкцію continue так само прийнято розміщувати під інструкцією if.\n",
        "\n",
        "Приклад використання інструкції continue:"
      ]
    },
    {
      "cell_type": "code",
      "execution_count": null,
      "metadata": {},
      "outputs": [],
      "source": [
        "for i in range(0, 10):\n",
        "    if i % 2 == 1:\n",
        "        continue\n",
        "    print(i, end=' ')\n",
        "    print('This is even number')\n",
        "print('Done')"
      ]
    },
    {
      "cell_type": "markdown",
      "metadata": {},
      "source": [
        "У циклах while і for за потреби може використовуватись **частина else**. Вона активується тоді і тільки тоді, коли всі ітерації циклу виконуються без помилок та переривань.\n",
        "\n",
        "Приклад використання частини else:"
      ]
    },
    {
      "cell_type": "code",
      "execution_count": null,
      "metadata": {},
      "outputs": [],
      "source": [
        "print('Only print code if all iterations completed')\n",
        "num = int(input('Enter a number to check for: '))\n",
        "for i in range(0, 6):\n",
        "    if i == num:\n",
        "        break\n",
        "    print(i, ' ', end='')\n",
        "else:\n",
        "    print()\n",
        "    print('All iterations are successful')"
      ]
    },
    {
      "cell_type": "markdown",
      "metadata": {},
      "source": [
        "### **7. Робота зі списками**"
      ]
    },
    {
      "cell_type": "markdown",
      "metadata": {},
      "source": [
        "**Список** - це впрорядкована змінювана колекція об'єктів довільних типів.\n",
        "\n",
        "Список створюється у квадратних дужках, що розташовані перед та після елементів, з яких складається цей список. Наприклад:"
      ]
    },
    {
      "cell_type": "code",
      "execution_count": null,
      "metadata": {},
      "outputs": [],
      "source": [
        "list1 = ['John', 'Paul', 'George', 'Ringo']"
      ]
    },
    {
      "cell_type": "markdown",
      "metadata": {},
      "source": [
        "Списки індексуються, починаючи з нуля. Тому елемент 'John' списку list1 має індекс 0, елемент 'Paul' - індекс 1, елемент 'George' - індекс 2, елемент 'Ringo' - індекс 3.\n",
        "\n",
        "Списки можуть бути вкладеними. Квадратні дужки всередині інших квадратних дужок вказують на вкладений список. Наприклад:"
      ]
    },
    {
      "cell_type": "code",
      "execution_count": null,
      "metadata": {},
      "outputs": [],
      "source": [
        "list1 = [1, 43.5, 'Person', True]\n",
        "list2 = ['apple', 'orange', 31]\n",
        "root_list = ['John', list1, list2, 'Denise']\n",
        "print(root_list)"
      ]
    },
    {
      "cell_type": "markdown",
      "metadata": {},
      "source": [
        "Створити список можна кількома способами. \n",
        "\n",
        "**Спосіб №1.** \n",
        "\n",
        "Створення списку безпосередньо у квадратних дужках (як показано вище). Зверніть увагу, що список може бути порожнім. Наприклад:"
      ]
    },
    {
      "cell_type": "code",
      "execution_count": null,
      "metadata": {},
      "outputs": [],
      "source": [
        "list1 = []\n",
        "print(list1)"
      ]
    },
    {
      "cell_type": "markdown",
      "metadata": {},
      "source": [
        "**Спосіб №2.**\n",
        "\n",
        "Можна створити список, обробивши будь-який об'єкт, що може повертати елементи по одному (об'єкт, що ітерується), за допомогою вбудованої функції list(). Спробуємо обробити рядок 'list'."
      ]
    },
    {
      "cell_type": "code",
      "execution_count": null,
      "metadata": {},
      "outputs": [],
      "source": [
        "new_list = list('list')\n",
        "print(new_list)"
      ]
    },
    {
      "cell_type": "markdown",
      "metadata": {},
      "source": [
        "**Спосіб №3.**\n",
        "\n",
        "Ще один спосіб створення списків - використання генератора списків. Генератор списків - це спосіб побудувати новий список, застосовуючи вираз до кожного елементу послідовності. \n",
        "\n",
        "Генератор списків дуже схожий на цикл for. Наприклад:"
      ]
    },
    {
      "cell_type": "code",
      "execution_count": null,
      "metadata": {},
      "outputs": [],
      "source": [
        "c = [a * 3 for a in 'list']\n",
        "print(c)"
      ]
    },
    {
      "cell_type": "markdown",
      "metadata": {},
      "source": [
        "Ще один приклад:"
      ]
    },
    {
      "cell_type": "code",
      "execution_count": null,
      "metadata": {},
      "outputs": [],
      "source": [
        "c = [a * 3 for a in 'list' if a != 'i']\n",
        "print(c)"
      ]
    },
    {
      "cell_type": "markdown",
      "metadata": {},
      "source": [
        "Доступ до елементів зі списку можна отримати за допомогою індекса (у квадратних дужках). Індекс повертає об'єкт, розташований на відповідній позиції. Наприклад:"
      ]
    },
    {
      "cell_type": "code",
      "execution_count": null,
      "metadata": {},
      "outputs": [],
      "source": [
        "list1 = ['John', 'Paul', 'George', 'Ringo']\n",
        "print(list1[1])"
      ]
    },
    {
      "cell_type": "markdown",
      "metadata": {},
      "source": [
        "Якщо список містить вкладені списки, звертатися до елементів вкладених списків можна, використовуючи два індекси: перший вказуватиме на елемент основного списку, другий - на елемент вкладеного списку. Наприклад:"
      ]
    },
    {
      "cell_type": "code",
      "execution_count": null,
      "metadata": {},
      "outputs": [],
      "source": [
        "list1 = [1, 43.5, 'Person', True]\n",
        "list2 = ['apple', 'orange', 31]\n",
        "root_list = ['John', list1, list2, 'Denise']\n",
        "print(root_list)\n",
        "print(root_list[2][1])"
      ]
    },
    {
      "cell_type": "markdown",
      "metadata": {},
      "source": [
        "Індекс з від'ємним значенням вказуватиме на елемент списку, відрахований з кінця. Тобто індекс -1 поверне останній елемент списку, -2 - передостанній тощо."
      ]
    },
    {
      "cell_type": "code",
      "execution_count": null,
      "metadata": {},
      "outputs": [],
      "source": [
        "list1 = ['John', 'Paul', 'George', 'Ringo']\n",
        "print(list1[-1])"
      ]
    },
    {
      "cell_type": "markdown",
      "metadata": {},
      "source": [
        "Також можна отримати **зріз** (slice) списку. Для цього у квадратних дужках задаються початковий та кінцевий індекс, розділені двокрапкою. Якщо один з двох індексів відсутній, це означає, що зріз починається з першого елемента або закінчується останнім елементом списку. Наприклад:"
      ]
    },
    {
      "cell_type": "code",
      "execution_count": null,
      "metadata": {},
      "outputs": [],
      "source": [
        "list1 = ['John', 'Paul', 'George', 'Ringo']\n",
        "print('list1[1]:', list1[1])\n",
        "print('list1[-1]:', list1[-1])\n",
        "print('list1[1:3]:', list1[1:3])\n",
        "print('list[:3]:', list1[:3])\n",
        "print('list[1:]:', list1[1:])"
      ]
    },
    {
      "cell_type": "markdown",
      "metadata": {},
      "source": [
        "Додавання елементу в кінець списку відбувається за допомогою методу append(). Він має такий синтаксис:\n",
        "\n",
        "```\n",
        "<список>.append(<об'єкт>)\n",
        "```\n",
        "\n",
        "Приклад:"
      ]
    },
    {
      "cell_type": "code",
      "execution_count": null,
      "metadata": {},
      "outputs": [],
      "source": [
        "list1 = ['John', 'Paul', 'George', 'Ringo']\n",
        "list1.append('Pete')\n",
        "print(list1)"
      ]
    },
    {
      "cell_type": "markdown",
      "metadata": {},
      "source": [
        "Щоб додати 2 і більше елементів в кінець списку, використовується метод extend() або оператор '+=':\n",
        "\n",
        "```\n",
        "<список>.extend([<об'єкт>, <об'єкт>])\n",
        "<список> += [<об'єкт>, <об'єкт>]\n",
        "```\n",
        "\n",
        "Приклад:"
      ]
    },
    {
      "cell_type": "code",
      "execution_count": null,
      "metadata": {},
      "outputs": [],
      "source": [
        "list1 = ['John', 'Paul', 'George', 'Ringo', 'Pete']\n",
        "print(list1)\n",
        "list1.extend(['Albert', 'Bob'])\n",
        "print(list1)\n",
        "list1 += ['Ginger', 'Sporty']\n",
        "print(list1)"
      ]
    },
    {
      "cell_type": "markdown",
      "metadata": {},
      "source": [
        "Щоб додати елемент на певну позицію у списку, використовується метод insert():\n",
        "\n",
        "```\n",
        "<список>.insert([<індекс>, <об'єкт>])\n",
        "```\n",
        "\n",
        "Приклад:"
      ]
    },
    {
      "cell_type": "code",
      "execution_count": null,
      "metadata": {},
      "outputs": [],
      "source": [
        "a_list = ['Adele', 'Madonna', 'Cher']\n",
        "print(a_list)\n",
        "a_list.insert(1, 'Paloma')\n",
        "print(a_list)"
      ]
    },
    {
      "cell_type": "markdown",
      "metadata": {},
      "source": [
        "Конкатенація (об'єднання) двох списків відбувається за допомогою оператора '+':"
      ]
    },
    {
      "cell_type": "code",
      "execution_count": null,
      "metadata": {},
      "outputs": [],
      "source": [
        "list1 = [3, 2, 1]\n",
        "list2 = [6, 5, 4]\n",
        "list3 = list1 + list2\n",
        "print(list3)"
      ]
    },
    {
      "cell_type": "markdown",
      "metadata": {},
      "source": [
        "Щоб видалити елемент зі списку, використовується метод remove().\n",
        "\n",
        "```\n",
        "<список>.remove(<об'єкт>)\n",
        "```"
      ]
    },
    {
      "cell_type": "code",
      "execution_count": null,
      "metadata": {},
      "outputs": [],
      "source": [
        "another_list = ['Gary', 'Mark', 'Robbie', 'Jason', 'Howard']\n",
        "print(another_list)\n",
        "another_list.remove('Robbie')\n",
        "print(another_list)"
      ]
    },
    {
      "cell_type": "markdown",
      "metadata": {},
      "source": [
        "Для видалення елементу або зрізу елементів використовується ключове слово del."
      ]
    },
    {
      "cell_type": "code",
      "execution_count": null,
      "metadata": {},
      "outputs": [],
      "source": [
        "my_list = ['A', 'B', 'C', 'D', 'E']\n",
        "print(my_list)\n",
        "del my_list[2]\n",
        "print(my_list)"
      ]
    },
    {
      "cell_type": "markdown",
      "metadata": {},
      "source": [
        "Повний перелік методів, які можна виконувати зі списками, поданий у таблиці.\n",
        "\n",
        "Метод | Опис\n",
        "--- | ---\n",
        "append() | Додає елемент в кінець списку\n",
        "clear() | Видаляє всі елементи зі списку\n",
        "copy() | Повертає копію списку\n",
        "count() | Повертає кількість елементів з певним значенням\n",
        "extend() | Додає елементи списку (чи будь-якого об'єкта, що ітерується) в кінець поточного списку\n",
        "index() | Повертає індекс першого елементу із вказаним значенням\n",
        "insert() | Додає елемент на визначену позицію\n",
        "pop() | Видаляє елемент на визначеній позиції\n",
        "remove() | Видаляє елемент із вказаним значенням\n",
        "reverse() | Змінює порядок елементів у списку на протилежний\n",
        "sort() | Сортує список"
      ]
    },
    {
      "cell_type": "markdown",
      "metadata": {},
      "source": [
        "Зі списками дуже зручно працювати у циклах. Розглянемо 4 приклади, в яких виводяться елементи списку list1:"
      ]
    },
    {
      "cell_type": "code",
      "execution_count": null,
      "metadata": {},
      "outputs": [],
      "source": [
        "list1 = [1, 3, 5, 7, 9]\n",
        "\n",
        "for i in list1: \n",
        "    print(i, end=' ')"
      ]
    },
    {
      "cell_type": "code",
      "execution_count": null,
      "metadata": {},
      "outputs": [],
      "source": [
        "list1 = [1, 3, 5, 7, 9] \n",
        "length = len(list1)\n",
        "print('length:', length)\n",
        "\n",
        "for i in range(length): \n",
        "    print(list1[i], end=' ') "
      ]
    },
    {
      "cell_type": "code",
      "execution_count": null,
      "metadata": {},
      "outputs": [],
      "source": [
        "list1 = [1, 3, 5, 7, 9] \n",
        "length = len(list1) \n",
        "i = 0\n",
        "\n",
        "while i < length: \n",
        "    print(list1[i], end=' ') \n",
        "    i += 1"
      ]
    },
    {
      "cell_type": "code",
      "execution_count": null,
      "metadata": {},
      "outputs": [],
      "source": [
        "list1 = [1, 3, 5, 7, 9] \n",
        "\n",
        "list2 = [print(i, end=' ') for i in list1]"
      ]
    },
    {
      "cell_type": "markdown",
      "metadata": {},
      "source": [
        "Для виведення елементів списку іноді замість функції range зручно використовувати функцію enumerate. Вона повертає не лише порядковий номер ітерації, але й значення елемента списку, що на цій ітерації обробляєтся:"
      ]
    },
    {
      "cell_type": "code",
      "execution_count": null,
      "metadata": {},
      "outputs": [],
      "source": [
        "list1 = ['Gary', 'Mark', 'Robbie', 'Jason', 'Howard']\n",
        "\n",
        "for i, elem in enumerate(list1):\n",
        "    print(i, elem)"
      ]
    },
    {
      "cell_type": "markdown",
      "metadata": {},
      "source": [
        "Зверніть увагу на те, що в заголовку циклу визначається не одна, а дві змінні: i та elem. Перша зберігає порядковий номер ітерації (за замовчуванням починається з нуля), друга - поточний елемент списку."
      ]
    }
  ],
  "metadata": {
    "colab": {
      "collapsed_sections": [
        "czcyeM09TwN7",
        "8kulJOUwaxuF",
        "2vM-TJgJCLcz"
      ],
      "name": "Practice_3.ipynb",
      "provenance": []
    },
    "kernelspec": {
      "display_name": "Python 3.10.2 ('tags_scraping': venv)",
      "language": "python",
      "name": "python3"
    },
    "language_info": {
      "codemirror_mode": {
        "name": "ipython",
        "version": 3
      },
      "file_extension": ".py",
      "mimetype": "text/x-python",
      "name": "python",
      "nbconvert_exporter": "python",
      "pygments_lexer": "ipython3",
      "version": "3.10.2"
    },
    "vscode": {
      "interpreter": {
        "hash": "71c7f1ec1d8cacaccd285cd22952b58f348b42ff78b3ec0871da3b76186664ce"
      }
    }
  },
  "nbformat": 4,
  "nbformat_minor": 2
}
